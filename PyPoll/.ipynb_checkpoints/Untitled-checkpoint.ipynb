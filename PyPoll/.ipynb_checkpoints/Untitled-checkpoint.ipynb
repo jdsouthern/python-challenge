{
 "cells": [
  {
   "cell_type": "code",
   "execution_count": 1,
   "id": "39d07003-aaea-4068-8503-640175f24f9f",
   "metadata": {},
   "outputs": [],
   "source": [
    "#import modules needed\n",
    "import os\n",
    "import csv"
   ]
  },
  {
   "cell_type": "code",
   "execution_count": 2,
   "id": "5de6c74b-c601-4053-ab64-7811660a21d1",
   "metadata": {},
   "outputs": [],
   "source": [
    "#file path to csv\n",
    "electionDataCSV = os.path.join(\"Resources\", \"election_data.csv\")"
   ]
  },
  {
   "cell_type": "code",
   "execution_count": 3,
   "id": "4d440fd9-d5aa-4aef-9365-b6051ca59b83",
   "metadata": {},
   "outputs": [],
   "source": [
    "#initialize variables\n",
    "totalVotes = 0\n",
    "candidates = []\n",
    "candidateVotes = {}"
   ]
  },
  {
   "cell_type": "code",
   "execution_count": 4,
   "id": "d3e5786e-88c2-4f15-b665-8558aad9a26c",
   "metadata": {},
   "outputs": [],
   "source": [
    "#create IO wrapper\n",
    "with open(electionDataCSV, 'r') as csvFile:\n",
    "#create file reader\n",
    "    csvReader = csv.reader(csvFile, delimiter = ',')\n",
    "#store header\n",
    "    header = next(csvReader)\n",
    "    for row in csvReader:\n",
    "        totalVotes += 1\n",
    "        candidateName = row[2]\n",
    "        if candidateName not in candidates:\n",
    "            candidates.append(candidateName)\n",
    "            candidateVotes[candidateName] = 1\n",
    "        else:\n",
    "            candidateVotes[candidateName] += 1"
   ]
  },
  {
   "cell_type": "code",
   "execution_count": 5,
   "id": "46af9757-901c-4257-b2d7-d9410957fe3f",
   "metadata": {},
   "outputs": [],
   "source": [
    "percentages = []\n",
    "for candidate in candidates:\n",
    "    percentage = (100 * candidateVotes[candidate]) / totalVotes\n",
    "    percentages.append(percentage)"
   ]
  },
  {
   "cell_type": "code",
   "execution_count": 6,
   "id": "7dc14344-21d9-4006-a5be-ce6efda5d54c",
   "metadata": {},
   "outputs": [
    {
     "name": "stdout",
     "output_type": "stream",
     "text": [
      "Election Results\n",
      "\n",
      "---------------------\n",
      "\n",
      "Total Votes: 369711\n",
      "\n",
      "---------------------\n",
      "\n"
     ]
    }
   ],
   "source": [
    "#formatted results output to terminal\n",
    "print(\"Election Results\\n\")\n",
    "print(\"---------------------\\n\")\n",
    "print(f\"Total Votes: {totalVotes}\\n\")\n",
    "print(\"---------------------\\n\")"
   ]
  },
  {
   "cell_type": "code",
   "execution_count": 8,
   "id": "7d895845-8393-4a6b-806c-49f6b6c948f1",
   "metadata": {},
   "outputs": [
    {
     "name": "stdout",
     "output_type": "stream",
     "text": [
      "Charles Casper Stockham: 23.049% (85213)\n",
      "\n",
      "Diana DeGette: 73.812% (272892)\n",
      "\n",
      "Raymon Anthony Doane: 3.139% (11606)\n",
      "\n",
      "---------------------\n",
      "\n"
     ]
    }
   ],
   "source": [
    "for i in range(len(candidates)):\n",
    "    print(f\"{candidates[i]}: {percentages[i]:.3f}% ({candidateVotes[candidates[i]]})\\n\") \n",
    "print(\"---------------------\\n\")"
   ]
  },
  {
   "cell_type": "code",
   "execution_count": 18,
   "id": "e9d6dc25-05a4-4fcb-a3a5-6788f13a8c7d",
   "metadata": {},
   "outputs": [
    {
     "name": "stdout",
     "output_type": "stream",
     "text": [
      "Diana DeGette\n"
     ]
    }
   ],
   "source": [
    "maxPercentage = 0\n",
    "for percentage in percentages:\n",
    "    if percentage > maxPercentage:\n",
    "        maxPercentage = percentage\n",
    "winnerIndex = percentages.index(maxPercentage)\n",
    "print(candidates[winnerIndex])"
   ]
  },
  {
   "cell_type": "code",
   "execution_count": null,
   "id": "0362a0ac-c052-4ade-80da-b5b27f8a3515",
   "metadata": {},
   "outputs": [],
   "source": []
  }
 ],
 "metadata": {
  "kernelspec": {
   "display_name": "Python 3 (ipykernel)",
   "language": "python",
   "name": "python3"
  },
  "language_info": {
   "codemirror_mode": {
    "name": "ipython",
    "version": 3
   },
   "file_extension": ".py",
   "mimetype": "text/x-python",
   "name": "python",
   "nbconvert_exporter": "python",
   "pygments_lexer": "ipython3",
   "version": "3.11.5"
  }
 },
 "nbformat": 4,
 "nbformat_minor": 5
}
